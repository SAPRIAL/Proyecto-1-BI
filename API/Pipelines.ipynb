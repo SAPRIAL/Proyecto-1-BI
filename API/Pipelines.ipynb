{
 "cells": [
  {
   "cell_type": "markdown",
   "id": "88d96d86-0e1e-489f-b630-5e2c4ac793a3",
   "metadata": {},
   "source": [
    "# Instalaciones"
   ]
  },
  {
   "cell_type": "code",
   "execution_count": 1,
   "id": "99e0034f-ed04-42aa-9824-f46b1156b55b",
   "metadata": {},
   "outputs": [
    {
     "name": "stdout",
     "output_type": "stream",
     "text": [
      "Requirement already satisfied: spacy in c:\\users\\sbpri\\anaconda3\\lib\\site-packages (3.5.2)\n",
      "Requirement already satisfied: spacy-legacy<3.1.0,>=3.0.11 in c:\\users\\sbpri\\anaconda3\\lib\\site-packages (from spacy) (3.0.12)\n",
      "Requirement already satisfied: tqdm<5.0.0,>=4.38.0 in c:\\users\\sbpri\\anaconda3\\lib\\site-packages (from spacy) (4.64.1)\n",
      "Requirement already satisfied: wasabi<1.2.0,>=0.9.1 in c:\\users\\sbpri\\anaconda3\\lib\\site-packages (from spacy) (1.1.1)\n",
      "Requirement already satisfied: typer<0.8.0,>=0.3.0 in c:\\users\\sbpri\\anaconda3\\lib\\site-packages (from spacy) (0.7.0)\n",
      "Requirement already satisfied: preshed<3.1.0,>=3.0.2 in c:\\users\\sbpri\\anaconda3\\lib\\site-packages (from spacy) (3.0.8)\n",
      "Requirement already satisfied: thinc<8.2.0,>=8.1.8 in c:\\users\\sbpri\\anaconda3\\lib\\site-packages (from spacy) (8.1.9)\n",
      "Requirement already satisfied: numpy>=1.15.0 in c:\\users\\sbpri\\anaconda3\\lib\\site-packages (from spacy) (1.21.5)\n",
      "Requirement already satisfied: pathy>=0.10.0 in c:\\users\\sbpri\\anaconda3\\lib\\site-packages (from spacy) (0.10.1)\n",
      "Requirement already satisfied: pydantic!=1.8,!=1.8.1,<1.11.0,>=1.7.4 in c:\\users\\sbpri\\anaconda3\\lib\\site-packages (from spacy) (1.10.4)\n",
      "Requirement already satisfied: jinja2 in c:\\users\\sbpri\\anaconda3\\lib\\site-packages (from spacy) (2.11.3)\n",
      "Requirement already satisfied: requests<3.0.0,>=2.13.0 in c:\\users\\sbpri\\anaconda3\\lib\\site-packages (from spacy) (2.28.1)\n",
      "Requirement already satisfied: catalogue<2.1.0,>=2.0.6 in c:\\users\\sbpri\\anaconda3\\lib\\site-packages (from spacy) (2.0.8)\n",
      "Requirement already satisfied: srsly<3.0.0,>=2.4.3 in c:\\users\\sbpri\\anaconda3\\lib\\site-packages (from spacy) (2.4.6)\n",
      "Requirement already satisfied: spacy-loggers<2.0.0,>=1.0.0 in c:\\users\\sbpri\\anaconda3\\lib\\site-packages (from spacy) (1.0.4)\n",
      "Requirement already satisfied: setuptools in c:\\users\\sbpri\\anaconda3\\lib\\site-packages (from spacy) (63.4.1)\n",
      "Requirement already satisfied: langcodes<4.0.0,>=3.2.0 in c:\\users\\sbpri\\anaconda3\\lib\\site-packages (from spacy) (3.3.0)\n",
      "Requirement already satisfied: cymem<2.1.0,>=2.0.2 in c:\\users\\sbpri\\anaconda3\\lib\\site-packages (from spacy) (2.0.7)\n",
      "Requirement already satisfied: murmurhash<1.1.0,>=0.28.0 in c:\\users\\sbpri\\anaconda3\\lib\\site-packages (from spacy) (1.0.9)\n",
      "Requirement already satisfied: packaging>=20.0 in c:\\users\\sbpri\\anaconda3\\lib\\site-packages (from spacy) (21.3)\n",
      "Requirement already satisfied: smart-open<7.0.0,>=5.2.1 in c:\\users\\sbpri\\anaconda3\\lib\\site-packages (from spacy) (5.2.1)\n",
      "Requirement already satisfied: pyparsing!=3.0.5,>=2.0.2 in c:\\users\\sbpri\\anaconda3\\lib\\site-packages (from packaging>=20.0->spacy) (3.0.9)\n",
      "Requirement already satisfied: typing-extensions>=4.2.0 in c:\\users\\sbpri\\anaconda3\\lib\\site-packages (from pydantic!=1.8,!=1.8.1,<1.11.0,>=1.7.4->spacy) (4.3.0)\n",
      "Requirement already satisfied: idna<4,>=2.5 in c:\\users\\sbpri\\anaconda3\\lib\\site-packages (from requests<3.0.0,>=2.13.0->spacy) (2.10)\n",
      "Requirement already satisfied: charset-normalizer<3,>=2 in c:\\users\\sbpri\\anaconda3\\lib\\site-packages (from requests<3.0.0,>=2.13.0->spacy) (2.0.4)\n",
      "Requirement already satisfied: certifi>=2017.4.17 in c:\\users\\sbpri\\anaconda3\\lib\\site-packages (from requests<3.0.0,>=2.13.0->spacy) (2022.9.14)\n",
      "Requirement already satisfied: urllib3<1.27,>=1.21.1 in c:\\users\\sbpri\\anaconda3\\lib\\site-packages (from requests<3.0.0,>=2.13.0->spacy) (1.26.11)\n",
      "Requirement already satisfied: blis<0.8.0,>=0.7.8 in c:\\users\\sbpri\\anaconda3\\lib\\site-packages (from thinc<8.2.0,>=8.1.8->spacy) (0.7.9)\n",
      "Requirement already satisfied: confection<1.0.0,>=0.0.1 in c:\\users\\sbpri\\anaconda3\\lib\\site-packages (from thinc<8.2.0,>=8.1.8->spacy) (0.0.4)\n",
      "Requirement already satisfied: colorama in c:\\users\\sbpri\\anaconda3\\lib\\site-packages (from tqdm<5.0.0,>=4.38.0->spacy) (0.4.6)\n",
      "Requirement already satisfied: click<9.0.0,>=7.1.1 in c:\\users\\sbpri\\anaconda3\\lib\\site-packages (from typer<0.8.0,>=0.3.0->spacy) (8.0.4)\n",
      "Requirement already satisfied: MarkupSafe>=0.23 in c:\\users\\sbpri\\anaconda3\\lib\\site-packages (from jinja2->spacy) (2.0.1)\n",
      "Collecting es-core-news-sm==3.5.0\n",
      "  Downloading https://github.com/explosion/spacy-models/releases/download/es_core_news_sm-3.5.0/es_core_news_sm-3.5.0-py3-none-any.whl (12.9 MB)\n",
      "     ---------------------------------------- 12.9/12.9 MB 3.2 MB/s eta 0:00:00\n",
      "Requirement already satisfied: spacy<3.6.0,>=3.5.0 in c:\\users\\sbpri\\anaconda3\\lib\\site-packages (from es-core-news-sm==3.5.0) (3.5.2)\n",
      "Requirement already satisfied: tqdm<5.0.0,>=4.38.0 in c:\\users\\sbpri\\anaconda3\\lib\\site-packages (from spacy<3.6.0,>=3.5.0->es-core-news-sm==3.5.0) (4.64.1)\n",
      "Requirement already satisfied: typer<0.8.0,>=0.3.0 in c:\\users\\sbpri\\anaconda3\\lib\\site-packages (from spacy<3.6.0,>=3.5.0->es-core-news-sm==3.5.0) (0.7.0)\n",
      "Requirement already satisfied: wasabi<1.2.0,>=0.9.1 in c:\\users\\sbpri\\anaconda3\\lib\\site-packages (from spacy<3.6.0,>=3.5.0->es-core-news-sm==3.5.0) (1.1.1)\n",
      "Requirement already satisfied: smart-open<7.0.0,>=5.2.1 in c:\\users\\sbpri\\anaconda3\\lib\\site-packages (from spacy<3.6.0,>=3.5.0->es-core-news-sm==3.5.0) (5.2.1)\n",
      "Requirement already satisfied: spacy-legacy<3.1.0,>=3.0.11 in c:\\users\\sbpri\\anaconda3\\lib\\site-packages (from spacy<3.6.0,>=3.5.0->es-core-news-sm==3.5.0) (3.0.12)\n",
      "Requirement already satisfied: preshed<3.1.0,>=3.0.2 in c:\\users\\sbpri\\anaconda3\\lib\\site-packages (from spacy<3.6.0,>=3.5.0->es-core-news-sm==3.5.0) (3.0.8)\n",
      "Requirement already satisfied: numpy>=1.15.0 in c:\\users\\sbpri\\anaconda3\\lib\\site-packages (from spacy<3.6.0,>=3.5.0->es-core-news-sm==3.5.0) (1.21.5)\n",
      "Requirement already satisfied: pydantic!=1.8,!=1.8.1,<1.11.0,>=1.7.4 in c:\\users\\sbpri\\anaconda3\\lib\\site-packages (from spacy<3.6.0,>=3.5.0->es-core-news-sm==3.5.0) (1.10.4)\n",
      "Requirement already satisfied: catalogue<2.1.0,>=2.0.6 in c:\\users\\sbpri\\anaconda3\\lib\\site-packages (from spacy<3.6.0,>=3.5.0->es-core-news-sm==3.5.0) (2.0.8)\n",
      "Requirement already satisfied: setuptools in c:\\users\\sbpri\\anaconda3\\lib\\site-packages (from spacy<3.6.0,>=3.5.0->es-core-news-sm==3.5.0) (63.4.1)\n",
      "Requirement already satisfied: packaging>=20.0 in c:\\users\\sbpri\\anaconda3\\lib\\site-packages (from spacy<3.6.0,>=3.5.0->es-core-news-sm==3.5.0) (21.3)\n",
      "Requirement already satisfied: murmurhash<1.1.0,>=0.28.0 in c:\\users\\sbpri\\anaconda3\\lib\\site-packages (from spacy<3.6.0,>=3.5.0->es-core-news-sm==3.5.0) (1.0.9)\n",
      "Requirement already satisfied: spacy-loggers<2.0.0,>=1.0.0 in c:\\users\\sbpri\\anaconda3\\lib\\site-packages (from spacy<3.6.0,>=3.5.0->es-core-news-sm==3.5.0) (1.0.4)\n",
      "Requirement already satisfied: pathy>=0.10.0 in c:\\users\\sbpri\\anaconda3\\lib\\site-packages (from spacy<3.6.0,>=3.5.0->es-core-news-sm==3.5.0) (0.10.1)\n",
      "Requirement already satisfied: thinc<8.2.0,>=8.1.8 in c:\\users\\sbpri\\anaconda3\\lib\\site-packages (from spacy<3.6.0,>=3.5.0->es-core-news-sm==3.5.0) (8.1.9)\n",
      "Requirement already satisfied: cymem<2.1.0,>=2.0.2 in c:\\users\\sbpri\\anaconda3\\lib\\site-packages (from spacy<3.6.0,>=3.5.0->es-core-news-sm==3.5.0) (2.0.7)\n",
      "Requirement already satisfied: langcodes<4.0.0,>=3.2.0 in c:\\users\\sbpri\\anaconda3\\lib\\site-packages (from spacy<3.6.0,>=3.5.0->es-core-news-sm==3.5.0) (3.3.0)\n",
      "Requirement already satisfied: srsly<3.0.0,>=2.4.3 in c:\\users\\sbpri\\anaconda3\\lib\\site-packages (from spacy<3.6.0,>=3.5.0->es-core-news-sm==3.5.0) (2.4.6)\n",
      "Requirement already satisfied: jinja2 in c:\\users\\sbpri\\anaconda3\\lib\\site-packages (from spacy<3.6.0,>=3.5.0->es-core-news-sm==3.5.0) (2.11.3)\n",
      "Requirement already satisfied: requests<3.0.0,>=2.13.0 in c:\\users\\sbpri\\anaconda3\\lib\\site-packages (from spacy<3.6.0,>=3.5.0->es-core-news-sm==3.5.0) (2.28.1)\n",
      "Requirement already satisfied: pyparsing!=3.0.5,>=2.0.2 in c:\\users\\sbpri\\anaconda3\\lib\\site-packages (from packaging>=20.0->spacy<3.6.0,>=3.5.0->es-core-news-sm==3.5.0) (3.0.9)\n",
      "Requirement already satisfied: typing-extensions>=4.2.0 in c:\\users\\sbpri\\anaconda3\\lib\\site-packages (from pydantic!=1.8,!=1.8.1,<1.11.0,>=1.7.4->spacy<3.6.0,>=3.5.0->es-core-news-sm==3.5.0) (4.3.0)\n",
      "Requirement already satisfied: urllib3<1.27,>=1.21.1 in c:\\users\\sbpri\\anaconda3\\lib\\site-packages (from requests<3.0.0,>=2.13.0->spacy<3.6.0,>=3.5.0->es-core-news-sm==3.5.0) (1.26.11)\n",
      "Requirement already satisfied: certifi>=2017.4.17 in c:\\users\\sbpri\\anaconda3\\lib\\site-packages (from requests<3.0.0,>=2.13.0->spacy<3.6.0,>=3.5.0->es-core-news-sm==3.5.0) (2022.9.14)\n",
      "Requirement already satisfied: charset-normalizer<3,>=2 in c:\\users\\sbpri\\anaconda3\\lib\\site-packages (from requests<3.0.0,>=2.13.0->spacy<3.6.0,>=3.5.0->es-core-news-sm==3.5.0) (2.0.4)\n",
      "Requirement already satisfied: idna<4,>=2.5 in c:\\users\\sbpri\\anaconda3\\lib\\site-packages (from requests<3.0.0,>=2.13.0->spacy<3.6.0,>=3.5.0->es-core-news-sm==3.5.0) (2.10)\n",
      "Requirement already satisfied: confection<1.0.0,>=0.0.1 in c:\\users\\sbpri\\anaconda3\\lib\\site-packages (from thinc<8.2.0,>=8.1.8->spacy<3.6.0,>=3.5.0->es-core-news-sm==3.5.0) (0.0.4)\n",
      "Requirement already satisfied: blis<0.8.0,>=0.7.8 in c:\\users\\sbpri\\anaconda3\\lib\\site-packages (from thinc<8.2.0,>=8.1.8->spacy<3.6.0,>=3.5.0->es-core-news-sm==3.5.0) (0.7.9)\n",
      "Requirement already satisfied: colorama in c:\\users\\sbpri\\anaconda3\\lib\\site-packages (from tqdm<5.0.0,>=4.38.0->spacy<3.6.0,>=3.5.0->es-core-news-sm==3.5.0) (0.4.6)\n",
      "Requirement already satisfied: click<9.0.0,>=7.1.1 in c:\\users\\sbpri\\anaconda3\\lib\\site-packages (from typer<0.8.0,>=0.3.0->spacy<3.6.0,>=3.5.0->es-core-news-sm==3.5.0) (8.0.4)\n",
      "Requirement already satisfied: MarkupSafe>=0.23 in c:\\users\\sbpri\\anaconda3\\lib\\site-packages (from jinja2->spacy<3.6.0,>=3.5.0->es-core-news-sm==3.5.0) (2.0.1)\n",
      "\u001b[38;5;2m[+] Download and installation successful\u001b[0m\n",
      "You can now load the package via spacy.load('es_core_news_sm')\n",
      "Requirement already satisfied: nltk in c:\\users\\sbpri\\anaconda3\\lib\\site-packages (3.7)\n",
      "Requirement already satisfied: joblib in c:\\users\\sbpri\\anaconda3\\lib\\site-packages (from nltk) (1.1.0)\n",
      "Requirement already satisfied: regex>=2021.8.3 in c:\\users\\sbpri\\anaconda3\\lib\\site-packages (from nltk) (2022.7.9)\n",
      "Requirement already satisfied: click in c:\\users\\sbpri\\anaconda3\\lib\\site-packages (from nltk) (8.0.4)\n",
      "Requirement already satisfied: tqdm in c:\\users\\sbpri\\anaconda3\\lib\\site-packages (from nltk) (4.64.1)\n",
      "Requirement already satisfied: colorama in c:\\users\\sbpri\\anaconda3\\lib\\site-packages (from click->nltk) (0.4.6)\n",
      "Requirement already satisfied: inflect in c:\\users\\sbpri\\anaconda3\\lib\\site-packages (6.0.2)\n",
      "Requirement already satisfied: pydantic>=1.9.1 in c:\\users\\sbpri\\anaconda3\\lib\\site-packages (from inflect) (1.10.4)\n",
      "Requirement already satisfied: typing-extensions>=4.2.0 in c:\\users\\sbpri\\anaconda3\\lib\\site-packages (from pydantic>=1.9.1->inflect) (4.3.0)\n",
      "Requirement already satisfied: langdetect in c:\\users\\sbpri\\anaconda3\\lib\\site-packages (1.0.9)\n",
      "Requirement already satisfied: six in c:\\users\\sbpri\\anaconda3\\lib\\site-packages (from langdetect) (1.16.0)\n",
      "Requirement already satisfied: deep-translator in c:\\users\\sbpri\\anaconda3\\lib\\site-packages (1.10.1)\n",
      "Requirement already satisfied: requests<3.0.0,>=2.23.0 in c:\\users\\sbpri\\anaconda3\\lib\\site-packages (from deep-translator) (2.28.1)\n",
      "Requirement already satisfied: beautifulsoup4<5.0.0,>=4.9.1 in c:\\users\\sbpri\\anaconda3\\lib\\site-packages (from deep-translator) (4.11.1)\n",
      "Requirement already satisfied: soupsieve>1.2 in c:\\users\\sbpri\\anaconda3\\lib\\site-packages (from beautifulsoup4<5.0.0,>=4.9.1->deep-translator) (2.3.1)\n",
      "Requirement already satisfied: certifi>=2017.4.17 in c:\\users\\sbpri\\anaconda3\\lib\\site-packages (from requests<3.0.0,>=2.23.0->deep-translator) (2022.9.14)\n",
      "Requirement already satisfied: urllib3<1.27,>=1.21.1 in c:\\users\\sbpri\\anaconda3\\lib\\site-packages (from requests<3.0.0,>=2.23.0->deep-translator) (1.26.11)\n",
      "Requirement already satisfied: charset-normalizer<3,>=2 in c:\\users\\sbpri\\anaconda3\\lib\\site-packages (from requests<3.0.0,>=2.23.0->deep-translator) (2.0.4)\n",
      "Requirement already satisfied: idna<4,>=2.5 in c:\\users\\sbpri\\anaconda3\\lib\\site-packages (from requests<3.0.0,>=2.23.0->deep-translator) (2.10)\n"
     ]
    }
   ],
   "source": [
    "!pip install -U spacy\n",
    "!python -m spacy download es_core_news_sm\n",
    "!pip install nltk\n",
    "!pip install inflect\n",
    "#Detectar idioma\n",
    "!pip install langdetect\n",
    "#Traductor\n",
    "!pip install -U deep-translator"
   ]
  },
  {
   "cell_type": "markdown",
   "id": "d441385d-3bac-4ed4-be36-9b86ea091341",
   "metadata": {},
   "source": [
    "# Imports"
   ]
  },
  {
   "cell_type": "code",
   "execution_count": 2,
   "id": "e4487324-8cc4-495d-9ab3-bb145571fa7a",
   "metadata": {},
   "outputs": [],
   "source": [
    "import joblib\n",
    "from sklearn.pipeline import Pipeline\n",
    "\n",
    "from CustomTransformers import Traductor, Lematizador, NoASCII, Minusculas, SinPuntuacion, ReemplazadorNumeros, SinVacios, ArrayToString\n",
    "\n",
    "from sklearn.feature_extraction.text import CountVectorizer\n",
    "from sklearn.naive_bayes import MultinomialNB\n",
    "from sklearn.svm import LinearSVC\n",
    "from sklearn.ensemble import RandomForestClassifier\n",
    "from sklearn.model_selection import train_test_split\n",
    "from sklearn.metrics import accuracy_score\n",
    "from sklearn.metrics import classification_report\n",
    "from sklearn.metrics import f1_score\n",
    "from sklearn.metrics import confusion_matrix\n",
    "import pandas as pd\n",
    "\n",
    "import warnings\n",
    "warnings.filterwarnings('ignore')"
   ]
  },
  {
   "cell_type": "markdown",
   "id": "e80f0b5e-2d11-4bf4-b7e3-3d57afbff485",
   "metadata": {},
   "source": [
    "# Carga de datos"
   ]
  },
  {
   "cell_type": "code",
   "execution_count": 5,
   "id": "3840e978-3db9-4e4e-9e5e-1d763a8ceea4",
   "metadata": {},
   "outputs": [],
   "source": [
    "data=pd.read_csv('../HotelsReviews.csv', sep=',', encoding = 'utf-8', index_col=0)\n",
    "data_t=data\n",
    "data_t=data_t.drop_duplicates()\n",
    "X_train, X_test, y_train, y_test = train_test_split(data_t.drop(columns = ['label']),data_t[[\"label\"]], \n",
    "                                                    test_size=0.3, \n",
    "                                                    stratify=data_t[[\"label\"]],\n",
    "                                                    random_state = 42)"
   ]
  },
  {
   "cell_type": "markdown",
   "id": "8e9ed45e-b167-4d60-a8a3-f24ea9ff344a",
   "metadata": {},
   "source": [
    "# Pipelines"
   ]
  },
  {
   "cell_type": "markdown",
   "id": "cf880178-6078-4d05-9e82-25f6610948ea",
   "metadata": {},
   "source": [
    "* Pipeline para MultinomialNB"
   ]
  },
  {
   "cell_type": "code",
   "execution_count": 6,
   "id": "14645097-c6c3-432b-9faf-c516accfba00",
   "metadata": {},
   "outputs": [
    {
     "data": {
      "text/plain": [
       "Pipeline(steps=[('traductor', Traductor()), ('lematización', Lematizador()),\n",
       "                ('reemplazarNumeros', ReemplazadorNumeros()),\n",
       "                ('dejarTodoMinus', Minusculas()),\n",
       "                ('removerPuntuacion', SinPuntuacion()),\n",
       "                ('soloAscii', NoASCII()), ('sinCadenasVacias', SinVacios()),\n",
       "                ('arregloAString', ArrayToString()),\n",
       "                ('vectorizador', CountVectorizer()),\n",
       "                ('MultinomialNB', MultinomialNB())])"
      ]
     },
     "execution_count": 6,
     "metadata": {},
     "output_type": "execute_result"
    }
   ],
   "source": [
    "pipelineNB = Pipeline([\n",
    "    ('traductor', Traductor()),\n",
    "    ('lematización', Lematizador()),\n",
    "    ('reemplazarNumeros', ReemplazadorNumeros()),\n",
    "    ('dejarTodoMinus', Minusculas()),\n",
    "    ('removerPuntuacion', SinPuntuacion()),\n",
    "    ('soloAscii', NoASCII()),\n",
    "    ('sinCadenasVacias', SinVacios()),\n",
    "    ('arregloAString', ArrayToString()),\n",
    "    ('vectorizador', CountVectorizer()),\n",
    "    ('MultinomialNB',MultinomialNB())\n",
    "])\n",
    "\n",
    "pipelineNB.fit(X_train,y_train)"
   ]
  },
  {
   "cell_type": "code",
   "execution_count": 7,
   "id": "69fd9341-a22c-4100-a57b-ed76543448b3",
   "metadata": {},
   "outputs": [
    {
     "data": {
      "text/plain": [
       "['pipelineNB.pkl']"
      ]
     },
     "execution_count": 7,
     "metadata": {},
     "output_type": "execute_result"
    }
   ],
   "source": [
    "joblib.dump(pipelineNB, 'pipelineNB.pkl')"
   ]
  },
  {
   "cell_type": "markdown",
   "id": "d71b81b9-e9c0-4c5c-8823-298ecd331fe9",
   "metadata": {},
   "source": [
    "* Pipeline para Linear SVC"
   ]
  },
  {
   "cell_type": "code",
   "execution_count": 8,
   "id": "13cbda75-b1e6-4b95-8d45-d121c4e50223",
   "metadata": {},
   "outputs": [
    {
     "data": {
      "text/plain": [
       "Pipeline(steps=[('traductor', Traductor()), ('lematización', Lematizador()),\n",
       "                ('reemplazarNumeros', ReemplazadorNumeros()),\n",
       "                ('dejarTodoMinus', Minusculas()),\n",
       "                ('removerPuntuacion', SinPuntuacion()),\n",
       "                ('soloAscii', NoASCII()), ('sinCadenasVacias', SinVacios()),\n",
       "                ('arregloAString', ArrayToString()),\n",
       "                ('vectorizador', CountVectorizer()),\n",
       "                ('LinearSVC', LinearSVC())])"
      ]
     },
     "execution_count": 8,
     "metadata": {},
     "output_type": "execute_result"
    }
   ],
   "source": [
    "pipelineSVC = Pipeline([\n",
    "    ('traductor', Traductor()),\n",
    "    ('lematización', Lematizador()),\n",
    "    ('reemplazarNumeros', ReemplazadorNumeros()),\n",
    "    ('dejarTodoMinus', Minusculas()),\n",
    "    ('removerPuntuacion', SinPuntuacion()),\n",
    "    ('soloAscii', NoASCII()),\n",
    "    ('sinCadenasVacias', SinVacios()),\n",
    "    ('arregloAString', ArrayToString()),\n",
    "    ('vectorizador', CountVectorizer()),\n",
    "    ('LinearSVC', LinearSVC())\n",
    "])\n",
    "\n",
    "pipelineSVC.fit(X_train,y_train)"
   ]
  },
  {
   "cell_type": "code",
   "execution_count": 9,
   "id": "a38b8611-56d3-4ff9-929e-d2bc9d662636",
   "metadata": {},
   "outputs": [
    {
     "data": {
      "text/plain": [
       "['pipelineSVC.pkl']"
      ]
     },
     "execution_count": 9,
     "metadata": {},
     "output_type": "execute_result"
    }
   ],
   "source": [
    "joblib.dump(pipelineSVC, 'pipelineSVC.pkl')"
   ]
  },
  {
   "cell_type": "markdown",
   "id": "00a4ac2d-b0da-4f82-9a3e-fcde48881881",
   "metadata": {},
   "source": [
    "* Pipeline para Random Forest"
   ]
  },
  {
   "cell_type": "code",
   "execution_count": 10,
   "id": "6a94167d-2c90-43a2-b433-edff36d88278",
   "metadata": {},
   "outputs": [
    {
     "data": {
      "text/plain": [
       "Pipeline(steps=[('traductor', Traductor()), ('lematización', Lematizador()),\n",
       "                ('reemplazarNumeros', ReemplazadorNumeros()),\n",
       "                ('dejarTodoMinus', Minusculas()),\n",
       "                ('removerPuntuacion', SinPuntuacion()),\n",
       "                ('soloAscii', NoASCII()), ('sinCadenasVacias', SinVacios()),\n",
       "                ('arregloAString', ArrayToString()),\n",
       "                ('vectorizador', CountVectorizer()),\n",
       "                ('RandomForest', RandomForestClassifier())])"
      ]
     },
     "execution_count": 10,
     "metadata": {},
     "output_type": "execute_result"
    }
   ],
   "source": [
    "pipelineForest = Pipeline([\n",
    "    ('traductor', Traductor()),\n",
    "    ('lematización', Lematizador()),\n",
    "    ('reemplazarNumeros', ReemplazadorNumeros()),\n",
    "    ('dejarTodoMinus', Minusculas()),\n",
    "    ('removerPuntuacion', SinPuntuacion()),\n",
    "    ('soloAscii', NoASCII()),\n",
    "    ('sinCadenasVacias', SinVacios()),\n",
    "    ('arregloAString', ArrayToString()),\n",
    "    ('vectorizador', CountVectorizer()),\n",
    "    ('RandomForest', RandomForestClassifier())\n",
    "])\n",
    "\n",
    "pipelineForest.fit(X_train,y_train)"
   ]
  },
  {
   "cell_type": "code",
   "execution_count": 11,
   "id": "9b173eec-5754-456c-9399-bf2fa6125dc6",
   "metadata": {},
   "outputs": [
    {
     "data": {
      "text/plain": [
       "['pipelineForest.pkl']"
      ]
     },
     "execution_count": 11,
     "metadata": {},
     "output_type": "execute_result"
    }
   ],
   "source": [
    "joblib.dump(pipelineForest, 'pipelineForest.pkl')"
   ]
  }
 ],
 "metadata": {
  "kernelspec": {
   "display_name": "Python 3 (ipykernel)",
   "language": "python",
   "name": "python3"
  },
  "language_info": {
   "codemirror_mode": {
    "name": "ipython",
    "version": 3
   },
   "file_extension": ".py",
   "mimetype": "text/x-python",
   "name": "python",
   "nbconvert_exporter": "python",
   "pygments_lexer": "ipython3",
   "version": "3.9.13"
  }
 },
 "nbformat": 4,
 "nbformat_minor": 5
}
